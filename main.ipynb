{
 "cells": [
  {
   "cell_type": "code",
   "execution_count": 20,
   "id": "137e19ad-d1b3-4196-b197-48fdbed432d1",
   "metadata": {},
   "outputs": [
    {
     "ename": "ImportError",
     "evalue": "cannot import name 'run_threads' from 'src.threading' (/home/student/Parallel-and-Distrubuted-Computing/src/threading.py)",
     "output_type": "error",
     "traceback": [
      "\u001b[0;31m---------------------------------------------------------------------------\u001b[0m",
      "\u001b[0;31mImportError\u001b[0m                               Traceback (most recent call last)",
      "Cell \u001b[0;32mIn[20], line 7\u001b[0m\n\u001b[1;32m      5\u001b[0m \u001b[38;5;28;01mfrom\u001b[39;00m \u001b[38;5;21;01msrc\u001b[39;00m\u001b[38;5;21;01m.\u001b[39;00m\u001b[38;5;21;01mthreading\u001b[39;00m \u001b[38;5;28;01mimport\u001b[39;00m \u001b[38;5;241m*\u001b[39m\n\u001b[1;32m      6\u001b[0m \u001b[38;5;28;01mfrom\u001b[39;00m \u001b[38;5;21;01msrc\u001b[39;00m\u001b[38;5;21;01m.\u001b[39;00m\u001b[38;5;21;01mprocesses\u001b[39;00m \u001b[38;5;28;01mimport\u001b[39;00m \u001b[38;5;241m*\u001b[39m\n\u001b[0;32m----> 7\u001b[0m run_threading()\n\u001b[1;32m      8\u001b[0m run_multiprocessing()\n",
      "Cell \u001b[0;32mIn[18], line 8\u001b[0m, in \u001b[0;36mrun_threading\u001b[0;34m()\u001b[0m\n\u001b[1;32m      6\u001b[0m \u001b[38;5;28;01mdef\u001b[39;00m \u001b[38;5;21mrun_threading\u001b[39m():\n\u001b[1;32m      7\u001b[0m     \u001b[38;5;66;03m# Import the threading code from the src folder\u001b[39;00m\n\u001b[0;32m----> 8\u001b[0m     \u001b[38;5;28;01mfrom\u001b[39;00m \u001b[38;5;21;01msrc\u001b[39;00m\u001b[38;5;21;01m.\u001b[39;00m\u001b[38;5;21;01mthreading\u001b[39;00m \u001b[38;5;28;01mimport\u001b[39;00m run_threads\n\u001b[1;32m      9\u001b[0m     run_threads()\n",
      "\u001b[0;31mImportError\u001b[0m: cannot import name 'run_threads' from 'src.threading' (/home/student/Parallel-and-Distrubuted-Computing/src/threading.py)"
     ]
    }
   ],
   "source": [
    "# Main file to run both threading or multiprocessing code\n",
    "\n",
    "import sys\n",
    "import os\n",
    "from src.threading import *\n",
    "from src.processes import *\n",
    "run_threading()\n",
    "run_multiprocessing()\n"
   ]
  },
  {
   "cell_type": "code",
   "execution_count": null,
   "id": "680d0f75-3b2b-4269-8cb3-99e146d0296a",
   "metadata": {},
   "outputs": [],
   "source": []
  }
 ],
 "metadata": {
  "kernelspec": {
   "display_name": "Python 3 (ipykernel)",
   "language": "python",
   "name": "python3"
  },
  "language_info": {
   "codemirror_mode": {
    "name": "ipython",
    "version": 3
   },
   "file_extension": ".py",
   "mimetype": "text/x-python",
   "name": "python",
   "nbconvert_exporter": "python",
   "pygments_lexer": "ipython3",
   "version": "3.12.8"
  }
 },
 "nbformat": 4,
 "nbformat_minor": 5
}
