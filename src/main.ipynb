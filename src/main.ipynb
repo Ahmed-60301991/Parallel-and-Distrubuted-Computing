{
 "cells": [
  {
   "cell_type": "code",
   "execution_count": 2,
   "id": "58cfaacf-5a6c-41c9-981b-4eeec3a1025b",
   "metadata": {},
   "outputs": [
    {
     "ename": "SyntaxError",
     "evalue": "invalid syntax (data_loader.py, line 2)",
     "output_type": "error",
     "traceback": [
      "Traceback \u001b[0;36m(most recent call last)\u001b[0m:\n",
      "\u001b[0m  File \u001b[1;32m~/anaconda3/envs/parallel/lib/python3.12/site-packages/IPython/core/interactiveshell.py:3577\u001b[0m in \u001b[1;35mrun_code\u001b[0m\n    exec(code_obj, self.user_global_ns, self.user_ns)\u001b[0m\n",
      "\u001b[0;36m  Cell \u001b[0;32mIn[2], line 1\u001b[0;36m\n\u001b[0;31m    from data_loader import load_data\u001b[0;36m\n",
      "\u001b[0;36m  File \u001b[0;32m~/Parallel-and-Distrubuted-Computing/src/data_loader.py:2\u001b[0;36m\u001b[0m\n\u001b[0;31m    1.\timport pandas as pd\u001b[0m\n\u001b[0m      \t^\u001b[0m\n\u001b[0;31mSyntaxError\u001b[0m\u001b[0;31m:\u001b[0m invalid syntax\n"
     ]
    }
   ],
   "source": [
    "from data_loader import load_data\n",
    "from preprocessing import split_data\n",
    "from model import train_model\n",
    "from evaluation import evaluate_model\n",
    "\n",
    "data = load_data()\n",
    "X_train, X_test, y_train, y_test = split_data(data)\n",
    "model = train_model(X_train, y_train)\n",
    "report = evaluate_model(model, X_test, y_test)\n",
    "print(report)\n",
    "\n"
   ]
  },
  {
   "cell_type": "code",
   "execution_count": null,
   "id": "474d7079-d32f-40b6-84f6-bbdb68b3265d",
   "metadata": {},
   "outputs": [],
   "source": []
  }
 ],
 "metadata": {
  "kernelspec": {
   "display_name": "Python 3 (ipykernel)",
   "language": "python",
   "name": "python3"
  },
  "language_info": {
   "codemirror_mode": {
    "name": "ipython",
    "version": 3
   },
   "file_extension": ".py",
   "mimetype": "text/x-python",
   "name": "python",
   "nbconvert_exporter": "python",
   "pygments_lexer": "ipython3",
   "version": "3.12.8"
  }
 },
 "nbformat": 4,
 "nbformat_minor": 5
}
